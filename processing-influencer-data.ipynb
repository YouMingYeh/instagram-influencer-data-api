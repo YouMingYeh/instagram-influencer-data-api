{
 "cells": [
  {
   "cell_type": "code",
   "execution_count": 1,
   "metadata": {},
   "outputs": [],
   "source": [
    "from instagrapi import Client\n",
    "from instagrapi.exceptions import LoginRequired\n",
    "import pandas as pd\n",
    "# python dotenv\n",
    "from dotenv import load_dotenv\n",
    "import os\n",
    "\n",
    "load_dotenv()\n",
    "\n",
    "\n",
    "USERNAME = os.getenv(\"USERNAME\")\n",
    "PASSWORD = os.getenv(\"PASSWORD\")"
   ]
  },
  {
   "cell_type": "code",
   "execution_count": 3,
   "metadata": {},
   "outputs": [],
   "source": [
    "# get all files in the influencer_data folder\n",
    "files = os.listdir('influencer_data')\n",
    "\n",
    "# using for loop to get all the files in the folder\n",
    "# and then read all the xlsx file and concat it to dataframe\n",
    "\n",
    "df = pd.DataFrame()\n",
    "for file in files:\n",
    "    if file.endswith('.xlsx'):\n",
    "        data = pd.read_excel(f'influencer_data/{file}')\n",
    "        df = pd.concat([df, data])\n",
    "\n",
    "# get the length of the dataframe\n",
    "length = len(df)"
   ]
  },
  {
   "cell_type": "code",
   "execution_count": 4,
   "metadata": {},
   "outputs": [
    {
     "name": "stdout",
     "output_type": "stream",
     "text": [
      "Total influencer data: 2805\n"
     ]
    }
   ],
   "source": [
    "print(f\"Total influencer data: {length}\")"
   ]
  },
  {
   "cell_type": "code",
   "execution_count": 5,
   "metadata": {},
   "outputs": [],
   "source": [
    "# export the dataframe to xlsx file\n",
    "df.to_excel('influencer_data_1_to_144.xlsx', index=False)"
   ]
  },
  {
   "cell_type": "code",
   "execution_count": 11,
   "metadata": {},
   "outputs": [],
   "source": [
    "# get all sponsor_tags\n",
    "# separate the sponsor_tags using comma\n",
    "# and then get the unique sponsor_tags\n",
    "sponsor_tags = df['sponsor_tags'].str.split(',').explode().unique()\n",
    "\n",
    "# get rid of nan\n",
    "sponsor_tags = [tag for tag in sponsor_tags if str(tag) != 'nan']"
   ]
  },
  {
   "cell_type": "code",
   "execution_count": 12,
   "metadata": {},
   "outputs": [
    {
     "name": "stdout",
     "output_type": "stream",
     "text": [
      "['mihongihealth', 'mysimplytw', '3zebra.tw', 'drmaytw', 'jcairline01', 'pixseecare', 'mrsofa_taiwan', 'shakleetw', 'drgroot_tw', 'nippi_tw', 'dr.grandma_tw', 'blacklotus.tw', 'yelubar', 'nightcrows_wemade', 'taiwanmobile_official', 'panasonic.taiwan', 'hapakristin_taiwan', 'aicom_aimall', 'magipea_tw', 'linestickertw', 'ap_atarapa_protects', 'everglow_beautech', 'momsdrynoodle', 'diet.u', 'wave_shine']\n"
     ]
    }
   ],
   "source": [
    "# print the sponsor_tags, \n",
    "print(sponsor_tags)"
   ]
  },
  {
   "cell_type": "code",
   "execution_count": 13,
   "metadata": {},
   "outputs": [],
   "source": [
    "# export sponsor_tags to xlsx file\n",
    "pd.DataFrame(sponsor_tags, columns=['sponsor_tags']).to_excel('sponsor_tags.xlsx', index=False)"
   ]
  },
  {
   "cell_type": "code",
   "execution_count": null,
   "metadata": {},
   "outputs": [],
   "source": []
  }
 ],
 "metadata": {
  "kernelspec": {
   "display_name": "base",
   "language": "python",
   "name": "python3"
  },
  "language_info": {
   "codemirror_mode": {
    "name": "ipython",
    "version": 3
   },
   "file_extension": ".py",
   "mimetype": "text/x-python",
   "name": "python",
   "nbconvert_exporter": "python",
   "pygments_lexer": "ipython3",
   "version": "3.11.5"
  }
 },
 "nbformat": 4,
 "nbformat_minor": 2
}
