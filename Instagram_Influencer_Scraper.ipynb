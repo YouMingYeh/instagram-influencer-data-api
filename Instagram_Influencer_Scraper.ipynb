{
 "cells": [
  {
   "cell_type": "code",
   "execution_count": 1,
   "id": "746863dc",
   "metadata": {},
   "outputs": [
    {
     "name": "stdout",
     "output_type": "stream",
     "text": [
      "Couldn't login user using session information: challenge_required\n",
      "Attempting to login via username and password. Username: cocha.app\n"
     ]
    }
   ],
   "source": [
    "from instagrapi import Client\n",
    "from instagrapi.exceptions import LoginRequired\n",
    "import pandas as pd\n",
    "# python dotenv\n",
    "from dotenv import load_dotenv\n",
    "import os\n",
    "\n",
    "load_dotenv()\n",
    "\n",
    "USERNAME = os.getenv(\"USERNAME\")\n",
    "PASSWORD = os.getenv(\"PASSWORD\")\n",
    "\n",
    "number_of_posts = 20\n",
    "number_of_influencers = 10\n",
    "\n",
    "client = Client()\n",
    "\n",
    "# Attempt to load session\n",
    "try: \n",
    "    session = client.load_settings(\"session.json\")\n",
    "except:\n",
    "    session = None\n",
    "\n",
    "login_via_session = False\n",
    "login_via_pw = False\n",
    "\n",
    "# Attempt login via session\n",
    "if session:\n",
    "    try:\n",
    "        client.set_settings(session)\n",
    "        client.login(USERNAME, PASSWORD)\n",
    "\n",
    "        # Check if session is valid\n",
    "        try:\n",
    "            client.get_timeline_feed()\n",
    "        except LoginRequired:\n",
    "            print(\"Session is invalid, need to login via username and password\")\n",
    "\n",
    "            old_session = client.get_settings()\n",
    "\n",
    "            # Use the same device uuids across logins\n",
    "            client.set_settings({})\n",
    "            client.set_uuids(old_session[\"uuids\"])\n",
    "\n",
    "            client.login(USERNAME, PASSWORD)\n",
    "            client.dump_settings(\"session.json\")\n",
    "            \n",
    "        login_via_session = True\n",
    "    except Exception as e:\n",
    "        print(f\"Couldn't login user using session information: {e}\")\n",
    "\n",
    "# Attempt login via username and password if session login fails\n",
    "if not login_via_session:\n",
    "    try:\n",
    "        print(f\"Attempting to login via username and password. Username: {USERNAME}\")\n",
    "        if client.login(USERNAME, PASSWORD):\n",
    "            client.dump_settings(\"session.json\")\n",
    "            login_via_pw = True\n",
    "    except Exception as e:\n",
    "        print(f\"Couldn't login user using username and password: {e}\")\n",
    "else:\n",
    "    print(\"Logged in via session\")\n",
    "\n",
    "if not login_via_pw and not login_via_session:\n",
    "    print(\"Couldn't login user with either password or session\")\n",
    "\n",
    "\n",
    "def get_user_id(username):\n",
    "    try:\n",
    "        return client.user_id_from_username(username)\n",
    "    except:\n",
    "        return None\n",
    "\n",
    "def get_user_medias(user_id):\n",
    "    try: \n",
    "        return client.user_medias(user_id, number_of_posts)\n",
    "    except:\n",
    "        return None\n",
    "        "
   ]
  },
  {
   "cell_type": "code",
   "execution_count": 2,
   "id": "99758c24",
   "metadata": {},
   "outputs": [],
   "source": [
    "# Read influencer data from CSV\n",
    "influencer = pd.read_csv(\"influencer.csv\")\n"
   ]
  },
  {
   "cell_type": "code",
   "execution_count": 3,
   "id": "f82fc4a5",
   "metadata": {},
   "outputs": [
    {
     "name": "stdout",
     "output_type": "stream",
     "text": [
      "### 144 ###\n"
     ]
    },
    {
     "name": "stderr",
     "output_type": "stream",
     "text": [
      "Status 201: JSONDecodeError in public_request (url=https://www.instagram.com/ts_melody1101/?__a=1&__d=dis) >>> \n",
      "Status 201: JSONDecodeError in public_request (url=https://www.instagram.com/ts_melody1101/?__a=1&__d=dis) >>> \n",
      "Status 201: JSONDecodeError in public_request (url=https://www.instagram.com/ts_melody1101/?__a=1&__d=dis) >>> \n"
     ]
    },
    {
     "name": "stdout",
     "output_type": "stream",
     "text": [
      "User ts_melody1101 not found\n",
      "### 145 ###\n"
     ]
    },
    {
     "name": "stderr",
     "output_type": "stream",
     "text": [
      "Status 201: JSONDecodeError in public_request (url=https://www.instagram.com/miandbanban/?__a=1&__d=dis) >>> \n",
      "Status 201: JSONDecodeError in public_request (url=https://www.instagram.com/miandbanban/?__a=1&__d=dis) >>> \n",
      "Status 201: JSONDecodeError in public_request (url=https://www.instagram.com/miandbanban/?__a=1&__d=dis) >>> \n"
     ]
    },
    {
     "name": "stdout",
     "output_type": "stream",
     "text": [
      "User miandbanban not found\n",
      "### 146 ###\n"
     ]
    },
    {
     "name": "stderr",
     "output_type": "stream",
     "text": [
      "Status 201: JSONDecodeError in public_request (url=https://www.instagram.com/sonia_0929/?__a=1&__d=dis) >>> \n",
      "Status 201: JSONDecodeError in public_request (url=https://www.instagram.com/sonia_0929/?__a=1&__d=dis) >>> \n",
      "Status 201: JSONDecodeError in public_request (url=https://www.instagram.com/sonia_0929/?__a=1&__d=dis) >>> \n"
     ]
    },
    {
     "name": "stdout",
     "output_type": "stream",
     "text": [
      "User sonia_0929 not found\n",
      "### 147 ###\n"
     ]
    },
    {
     "name": "stderr",
     "output_type": "stream",
     "text": [
      "Status 201: JSONDecodeError in public_request (url=https://www.instagram.com/somethingstudiotaiwan/?__a=1&__d=dis) >>> \n",
      "Status 201: JSONDecodeError in public_request (url=https://www.instagram.com/somethingstudiotaiwan/?__a=1&__d=dis) >>> \n",
      "Status 201: JSONDecodeError in public_request (url=https://www.instagram.com/somethingstudiotaiwan/?__a=1&__d=dis) >>> \n"
     ]
    },
    {
     "name": "stdout",
     "output_type": "stream",
     "text": [
      "User somethingstudiotaiwan not found\n",
      "### 148 ###\n"
     ]
    },
    {
     "name": "stderr",
     "output_type": "stream",
     "text": [
      "Status 201: JSONDecodeError in public_request (url=https://www.instagram.com/jimmy97713/?__a=1&__d=dis) >>> \n",
      "Status 201: JSONDecodeError in public_request (url=https://www.instagram.com/jimmy97713/?__a=1&__d=dis) >>> \n",
      "Status 201: JSONDecodeError in public_request (url=https://www.instagram.com/jimmy97713/?__a=1&__d=dis) >>> \n"
     ]
    }
   ],
   "source": [
    "round = 144\n",
    "number_of_influencers = 15\n",
    "\n",
    "# create df_all to store all the data\n",
    "df_all = pd.DataFrame()\n",
    "\n",
    "for index, row in influencer.iterrows():\n",
    "    if index < round:\n",
    "        continue\n",
    "    if index >= number_of_influencers + round:\n",
    "        break\n",
    "\n",
    "    print(f\"### {index} ###\")\n",
    "\n",
    "    display_name = row[\"display_name\"]\n",
    "    username = row[\"username\"]\n",
    "    user_id = get_user_id(username)\n",
    "    if user_id is None:\n",
    "        print(f\"User {username} not found\")\n",
    "        continue\n",
    "    medias = get_user_medias(user_id)\n",
    "    if medias is None:\n",
    "        print(f\"Media for {username} not found\")\n",
    "        continue\n",
    "\n",
    "    print(f\"### {username} ###\")\n",
    "\n",
    "    # Create DataFrame from media data\n",
    "    df = pd.DataFrame(\n",
    "        {\n",
    "            \"taken_at\": [media.taken_at for media in medias],\n",
    "            \"media_type\": [media.media_type for media in medias],\n",
    "            # \"image_versions2\": [str(media.image_versions2) for media in medias],\n",
    "            \"resources\": [\n",
    "                \", \".join(\n",
    "                    [\n",
    "                        str(resource.thumbnail_url)\n",
    "                        for resource in getattr(media, \"resources\", [])\n",
    "                    ]\n",
    "                )\n",
    "                for media in medias\n",
    "            ],\n",
    "            \"comment_count\": [\n",
    "                getattr(media, \"comment_count\", None) for media in medias\n",
    "            ],\n",
    "            \"like_count\": [getattr(media, \"like_count\", None) for media in medias],\n",
    "            \"play_count\": [getattr(media, \"play_count\", None) for media in medias],\n",
    "            \"caption_text\": [getattr(media, \"caption_text\", None) for media in medias],\n",
    "            \"accessibility_caption\": [\n",
    "                getattr(media, \"accessibility_caption\", None) for media in medias\n",
    "            ],\n",
    "            \"thumbnail_url\": [\n",
    "                getattr(media, \"thumbnail_url\", None) for media in medias\n",
    "            ],\n",
    "            # \"usertags\": [\n",
    "            #     \", \".join(\n",
    "            #         [\n",
    "            #             usertag.user.username\n",
    "            #             for usertag in getattr(media, \"usertags\", [])\n",
    "            #         ]\n",
    "            #     )\n",
    "            #     for media in medias\n",
    "            # ],\n",
    "            # \"sponsor_tags\": [\n",
    "            #     \", \".join(\n",
    "            #         [\n",
    "            #             sponsor_tag.user.username\n",
    "            #             for sponsor_tag in getattr(media, \"sponsor_tags\", [])\n",
    "            #         ]\n",
    "            #     )\n",
    "            #     for media in medias\n",
    "            # ],\n",
    "            \"usertags\": [\n",
    "                    \", \".join(\n",
    "                        [\n",
    "                            usertag.user.username\n",
    "                            for usertag in getattr(media, \"usertags\", [])\n",
    "                            if hasattr(usertag, 'user')\n",
    "                        ]\n",
    "                    )\n",
    "                    for media in medias\n",
    "                ],\n",
    "            \"sponsor_tags\": [\n",
    "                \", \".join(\n",
    "                    [\n",
    "                        sponsor_tag.username                            \n",
    "                        for sponsor_tag in getattr(media, \"sponsor_tags\", [])\n",
    "                        if hasattr(sponsor_tag, 'username')\n",
    "                    ]\n",
    "                )\n",
    "                for media in medias\n",
    "            ],\n",
    "            \n",
    "            \"video_url\": [getattr(media, \"video_url\", None) for media in medias],\n",
    "            \"view_count\": [getattr(media, \"view_count\", None) for media in medias],\n",
    "            # \"title\": [getattr(media, \"title\", None) for media in medias],\n",
    "        }\n",
    "    )\n",
    "\n",
    "    # concatenate df to df_all\n",
    "    df[\"username\"] = username\n",
    "    df[\"display_name\"] = display_name\n",
    "\n",
    "    # changee taken_at to datetime\n",
    "    # 確保 'taken_at' 是 datetime 格式，如果不是可以轉換為 datetime\n",
    "    df[\"taken_at\"] = pd.to_datetime(df[\"taken_at\"])\n",
    "\n",
    "    # 移除時區信息\n",
    "    df[\"taken_at\"] = df[\"taken_at\"].dt.tz_localize(None)\n",
    "    \n",
    "    df_all = pd.concat([df_all, df])\n",
    "    \n",
    "\n",
    "\n",
    "    # Display the DataFrame\n",
    "    # display(df)\n",
    "\n",
    "# Save the DataFrame to a xlsx file, with round number in file name\n",
    "df_all.to_excel(f\"influencer_data{round}.xlsx\", index=False)\n",
    "\n"
   ]
  },
  {
   "cell_type": "code",
   "execution_count": null,
   "id": "346ea72c",
   "metadata": {},
   "outputs": [],
   "source": [
    "# # for all sponser tags in df, print len\n",
    "# for index, row in df.iterrows():\n",
    "#     if row[\"sponsor_tags\"]:\n",
    "#         print(len(row[\"sponsor_tags\"]))"
   ]
  }
 ],
 "metadata": {
  "kernelspec": {
   "display_name": "base",
   "language": "python",
   "name": "python3"
  },
  "language_info": {
   "codemirror_mode": {
    "name": "ipython",
    "version": 3
   },
   "file_extension": ".py",
   "mimetype": "text/x-python",
   "name": "python",
   "nbconvert_exporter": "python",
   "pygments_lexer": "ipython3",
   "version": "3.11.5"
  }
 },
 "nbformat": 4,
 "nbformat_minor": 5
}
