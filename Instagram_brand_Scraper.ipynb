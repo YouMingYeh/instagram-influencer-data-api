{
 "cells": [
  {
   "cell_type": "code",
   "execution_count": 1,
   "id": "746863dc",
   "metadata": {},
   "outputs": [
    {
     "name": "stdout",
     "output_type": "stream",
     "text": [
      "Couldn't login user using session information: challenge_required\n",
      "Attempting to login via username and password. Username: cocha.app\n"
     ]
    }
   ],
   "source": [
    "from instagrapi import Client\n",
    "from instagrapi.exceptions import LoginRequired\n",
    "import pandas as pd\n",
    "# python dotenv\n",
    "from dotenv import load_dotenv\n",
    "import os\n",
    "\n",
    "load_dotenv()\n",
    "\n",
    "USERNAME = os.getenv(\"USERNAME\")\n",
    "PASSWORD = os.getenv(\"PASSWORD\")\n",
    "\n",
    "number_of_posts = 10\n",
    "\n",
    "client = Client()\n",
    "\n",
    "# Attempt to load session\n",
    "try: \n",
    "    session = client.load_settings(\"session.json\")\n",
    "except:\n",
    "    session = None\n",
    "\n",
    "login_via_session = False\n",
    "login_via_pw = False\n",
    "\n",
    "# Attempt login via session\n",
    "if session:\n",
    "    try:\n",
    "        client.set_settings(session)\n",
    "        client.login(USERNAME, PASSWORD)\n",
    "\n",
    "        # Check if session is valid\n",
    "        try:\n",
    "            client.get_timeline_feed()\n",
    "        except LoginRequired:\n",
    "            print(\"Session is invalid, need to login via username and password\")\n",
    "\n",
    "            old_session = client.get_settings()\n",
    "\n",
    "            # Use the same device uuids across logins\n",
    "            client.set_settings({})\n",
    "            client.set_uuids(old_session[\"uuids\"])\n",
    "\n",
    "            client.login(USERNAME, PASSWORD)\n",
    "            client.dump_settings(\"session.json\")\n",
    "            \n",
    "        login_via_session = True\n",
    "    except Exception as e:\n",
    "        print(f\"Couldn't login user using session information: {e}\")\n",
    "\n",
    "# Attempt login via username and password if session login fails\n",
    "if not login_via_session:\n",
    "    try:\n",
    "        print(f\"Attempting to login via username and password. Username: {USERNAME}\")\n",
    "        if client.login(USERNAME, PASSWORD):\n",
    "            client.dump_settings(\"session.json\")\n",
    "            login_via_pw = True\n",
    "    except Exception as e:\n",
    "        print(f\"Couldn't login user using username and password: {e}\")\n",
    "else:\n",
    "    print(\"Logged in via session\")\n",
    "\n",
    "if not login_via_pw and not login_via_session:\n",
    "    print(\"Couldn't login user with either password or session\")\n",
    "\n",
    "\n",
    "def get_user_id(username):\n",
    "    try:\n",
    "        return client.user_id_from_username(username)\n",
    "    except:\n",
    "        return None\n",
    "\n",
    "def get_user_medias(user_id):\n",
    "    try: \n",
    "        return client.user_medias(user_id, number_of_posts)\n",
    "    except:\n",
    "        return None\n",
    "        "
   ]
  },
  {
   "cell_type": "code",
   "execution_count": 2,
   "id": "99758c24",
   "metadata": {},
   "outputs": [
    {
     "name": "stdout",
     "output_type": "stream",
     "text": [
      "             sponsor_tags\n",
      "0           mihongihealth\n",
      "1              mysimplytw\n",
      "2               3zebra.tw\n",
      "3                 drmaytw\n",
      "4             jcairline01\n",
      "5              pixseecare\n",
      "6           mrsofa_taiwan\n",
      "7               shakleetw\n",
      "8              drgroot_tw\n",
      "9                nippi_tw\n",
      "10          dr.grandma_tw\n",
      "11          blacklotus.tw\n",
      "12                yelubar\n",
      "13      nightcrows_wemade\n",
      "14  taiwanmobile_official\n",
      "15       panasonic.taiwan\n",
      "16     hapakristin_taiwan\n",
      "17           aicom_aimall\n",
      "18             magipea_tw\n",
      "19          linestickertw\n",
      "20    ap_atarapa_protects\n",
      "21      everglow_beautech\n",
      "22          momsdrynoodle\n",
      "23                 diet.u\n",
      "24             wave_shine\n"
     ]
    }
   ],
   "source": [
    "# Read brand data from sponsor_tags.xlsx\n",
    "influencer = pd.read_excel(\"sponsor_tags.xlsx\")\n",
    "print(influencer)\n"
   ]
  },
  {
   "cell_type": "code",
   "execution_count": 3,
   "id": "f82fc4a5",
   "metadata": {},
   "outputs": [
    {
     "name": "stdout",
     "output_type": "stream",
     "text": [
      "### 0 ###\n"
     ]
    },
    {
     "name": "stderr",
     "output_type": "stream",
     "text": [
      "Status 201: JSONDecodeError in public_request (url=https://www.instagram.com/mihongihealth/?__a=1&__d=dis) >>> \n",
      "Status 201: JSONDecodeError in public_request (url=https://www.instagram.com/mihongihealth/?__a=1&__d=dis) >>> \n",
      "Status 201: JSONDecodeError in public_request (url=https://www.instagram.com/mihongihealth/?__a=1&__d=dis) >>> \n"
     ]
    },
    {
     "name": "stdout",
     "output_type": "stream",
     "text": [
      "User mihongihealth not found\n",
      "### 1 ###\n"
     ]
    },
    {
     "name": "stderr",
     "output_type": "stream",
     "text": [
      "Status 201: JSONDecodeError in public_request (url=https://www.instagram.com/mysimplytw/?__a=1&__d=dis) >>> \n",
      "Status 201: JSONDecodeError in public_request (url=https://www.instagram.com/mysimplytw/?__a=1&__d=dis) >>> \n",
      "Status 201: JSONDecodeError in public_request (url=https://www.instagram.com/mysimplytw/?__a=1&__d=dis) >>> \n"
     ]
    },
    {
     "name": "stdout",
     "output_type": "stream",
     "text": [
      "User mysimplytw not found\n",
      "### 2 ###\n"
     ]
    },
    {
     "name": "stderr",
     "output_type": "stream",
     "text": [
      "Status 201: JSONDecodeError in public_request (url=https://www.instagram.com/3zebra.tw/?__a=1&__d=dis) >>> \n",
      "Status 201: JSONDecodeError in public_request (url=https://www.instagram.com/3zebra.tw/?__a=1&__d=dis) >>> \n"
     ]
    },
    {
     "name": "stdout",
     "output_type": "stream",
     "text": [
      "User 3zebra.tw not found\n",
      "### 3 ###\n"
     ]
    },
    {
     "name": "stderr",
     "output_type": "stream",
     "text": [
      "Status 201: JSONDecodeError in public_request (url=https://www.instagram.com/drmaytw/?__a=1&__d=dis) >>> \n",
      "Status 201: JSONDecodeError in public_request (url=https://www.instagram.com/drmaytw/?__a=1&__d=dis) >>> \n",
      "Status 201: JSONDecodeError in public_request (url=https://www.instagram.com/drmaytw/?__a=1&__d=dis) >>> \n"
     ]
    }
   ],
   "source": [
    "round = 0\n",
    "num_of_brand = 15\n",
    "\n",
    "# create df_all to store all the data\n",
    "df_all = pd.DataFrame()\n",
    "\n",
    "for index, row in influencer.iterrows():\n",
    "    if index < round:\n",
    "        continue\n",
    "    if index >= num_of_brand + round:\n",
    "        break\n",
    "\n",
    "    print(f\"### {index} ###\")\n",
    "\n",
    "    # display_name = row[\"display_name\"]\n",
    "    username = row[\"sponsor_tags\"]\n",
    "    user_id = get_user_id(username)\n",
    "    if user_id is None:\n",
    "        print(f\"User {username} not found\")\n",
    "        continue\n",
    "    medias = get_user_medias(user_id)\n",
    "    if medias is None:\n",
    "        print(f\"Media for {username} not found\")\n",
    "        continue\n",
    "\n",
    "    print(f\"### {username} ###\")\n",
    "\n",
    "    # Create DataFrame from media data\n",
    "    df = pd.DataFrame(\n",
    "        {\n",
    "            \"taken_at\": [media.taken_at for media in medias],\n",
    "            \"media_type\": [media.media_type for media in medias],\n",
    "            # \"image_versions2\": [str(media.image_versions2) for media in medias],\n",
    "            \"resources\": [\n",
    "                \", \".join(\n",
    "                    [\n",
    "                        str(resource.thumbnail_url)\n",
    "                        for resource in getattr(media, \"resources\", [])\n",
    "                    ]\n",
    "                )\n",
    "                for media in medias\n",
    "            ],\n",
    "            \"comment_count\": [\n",
    "                getattr(media, \"comment_count\", None) for media in medias\n",
    "            ],\n",
    "            \"like_count\": [getattr(media, \"like_count\", None) for media in medias],\n",
    "            \"play_count\": [getattr(media, \"play_count\", None) for media in medias],\n",
    "            \"caption_text\": [getattr(media, \"caption_text\", None) for media in medias],\n",
    "            \"accessibility_caption\": [\n",
    "                getattr(media, \"accessibility_caption\", None) for media in medias\n",
    "            ],\n",
    "            \"thumbnail_url\": [\n",
    "                getattr(media, \"thumbnail_url\", None) for media in medias\n",
    "            ],\n",
    "            # \"usertags\": [\n",
    "            #     \", \".join(\n",
    "            #         [\n",
    "            #             usertag.user.username\n",
    "            #             for usertag in getattr(media, \"usertags\", [])\n",
    "            #         ]\n",
    "            #     )\n",
    "            #     for media in medias\n",
    "            # ],\n",
    "            # \"sponsor_tags\": [\n",
    "            #     \", \".join(\n",
    "            #         [\n",
    "            #             sponsor_tag.user.username\n",
    "            #             for sponsor_tag in getattr(media, \"sponsor_tags\", [])\n",
    "            #         ]\n",
    "            #     )\n",
    "            #     for media in medias\n",
    "            # ],\n",
    "            \"usertags\": [\n",
    "                    \", \".join(\n",
    "                        [\n",
    "                            usertag.user.username\n",
    "                            for usertag in getattr(media, \"usertags\", [])\n",
    "                            if hasattr(usertag, 'user')\n",
    "                        ]\n",
    "                    )\n",
    "                    for media in medias\n",
    "                ],\n",
    "            \"sponsor_tags\": [\n",
    "                \", \".join(\n",
    "                    [\n",
    "                        sponsor_tag.username                            \n",
    "                        for sponsor_tag in getattr(media, \"sponsor_tags\", [])\n",
    "                        if hasattr(sponsor_tag, 'username')\n",
    "                    ]\n",
    "                )\n",
    "                for media in medias\n",
    "            ],\n",
    "            \n",
    "            \"video_url\": [getattr(media, \"video_url\", None) for media in medias],\n",
    "            \"view_count\": [getattr(media, \"view_count\", None) for media in medias],\n",
    "            # \"title\": [getattr(media, \"title\", None) for media in medias],\n",
    "        }\n",
    "    )\n",
    "\n",
    "    # concatenate df to df_all\n",
    "    df[\"brand_name\"] = username\n",
    "    \n",
    "\n",
    "    # changee taken_at to datetime\n",
    "    # 確保 'taken_at' 是 datetime 格式，如果不是可以轉換為 datetime\n",
    "    df[\"taken_at\"] = pd.to_datetime(df[\"taken_at\"])\n",
    "\n",
    "    # 移除時區信息\n",
    "    df[\"taken_at\"] = df[\"taken_at\"].dt.tz_localize(None)\n",
    "    \n",
    "    df_all = pd.concat([df_all, df])\n",
    "    \n",
    "\n",
    "\n",
    "    # Display the DataFrame\n",
    "    # display(df)\n",
    "\n",
    "# Save the DataFrame to a xlsx file, with round number in file name\n",
    "df_all.to_excel(f\"brand_data{round}.xlsx\", index=False)\n",
    "\n"
   ]
  },
  {
   "cell_type": "code",
   "execution_count": null,
   "id": "346ea72c",
   "metadata": {},
   "outputs": [],
   "source": [
    "# # for all sponser tags in df, print len\n",
    "# for index, row in df.iterrows():\n",
    "#     if row[\"sponsor_tags\"]:\n",
    "#         print(len(row[\"sponsor_tags\"]))"
   ]
  }
 ],
 "metadata": {
  "kernelspec": {
   "display_name": "base",
   "language": "python",
   "name": "python3"
  },
  "language_info": {
   "codemirror_mode": {
    "name": "ipython",
    "version": 3
   },
   "file_extension": ".py",
   "mimetype": "text/x-python",
   "name": "python",
   "nbconvert_exporter": "python",
   "pygments_lexer": "ipython3",
   "version": "3.11.5"
  }
 },
 "nbformat": 4,
 "nbformat_minor": 5
}
