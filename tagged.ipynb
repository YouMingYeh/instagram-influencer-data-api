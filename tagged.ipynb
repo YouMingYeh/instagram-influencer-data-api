{
 "cells": [
  {
   "cell_type": "code",
   "execution_count": 6,
   "metadata": {},
   "outputs": [],
   "source": [
    "# !pip install instagrapi\n",
    "\n",
    "from instagrapi import Client\n",
    "import pandas as pd\n",
    "\n",
    "from dotenv import load_dotenv\n",
    "import os\n",
    "\n",
    "load_dotenv()\n",
    "\n",
    "USERNAME = os.getenv(\"USERNAME\")\n",
    "PASSWORD = os.getenv(\"PASSWORD\")"
   ]
  },
  {
   "cell_type": "code",
   "execution_count": 7,
   "metadata": {},
   "outputs": [],
   "source": [
    "number = 100\n",
    "\n",
    "# Login to Instagram\n",
    "client = Client()\n",
    "client.login(USERNAME, PASSWORD)\n",
    "\n",
    "# read influencer from csv\n",
    "influencer = pd.read_csv(\"influencer.csv\")\n",
    "\n",
    "def get_user_id(username):\n",
    "    try :\n",
    "        return client.user_id_from_username(username)\n",
    "    except:\n",
    "        return None\n",
    "\n",
    "def get_user_medias(user_id):\n",
    "    try: \n",
    "        return client.user_medias(user_id, number)\n",
    "    except:\n",
    "        return None\n",
    "\n",
    "\n"
   ]
  },
  {
   "cell_type": "code",
   "execution_count": 8,
   "metadata": {},
   "outputs": [
    {
     "name": "stdout",
     "output_type": "stream",
     "text": [
      "Getting data for Momo Chiang|蔣摸摸 (momochiangmomo)\n"
     ]
    },
    {
     "name": "stderr",
     "output_type": "stream",
     "text": [
      "/var/folders/7g/rxqxvrmd0z1bnnny3trbtfz80000gn/T/ipykernel_36478/3092813734.py:57: FutureWarning: The behavior of DataFrame concatenation with empty or all-NA entries is deprecated. In a future version, this will no longer exclude empty or all-NA columns when determining the result dtypes. To retain the old behavior, exclude the relevant entries before the concat operation.\n",
      "  df = pd.concat([df, df_tmp], ignore_index=True)\n",
      "Status 201: JSONDecodeError in public_request (url=https://www.instagram.com/ooo_ash_ooo/?__a=1&__d=dis) >>> \n",
      "Status 201: JSONDecodeError in public_request (url=https://www.instagram.com/ooo_ash_ooo/?__a=1&__d=dis) >>> \n",
      "Status 201: JSONDecodeError in public_request (url=https://www.instagram.com/ooo_ash_ooo/?__a=1&__d=dis) >>> \n"
     ]
    },
    {
     "name": "stdout",
     "output_type": "stream",
     "text": [
      "Getting data for 艾雪莉 Ashlee|ashlee.fans|ooo_ash_ooo|AshTvStudio艾雪莉愛玩趣|ASH|AshTvStudio| (ooo_ash_ooo)\n"
     ]
    },
    {
     "name": "stderr",
     "output_type": "stream",
     "text": [
      "Status 201: JSONDecodeError in public_request (url=https://www.instagram.com/teeprnews/?__a=1&__d=dis) >>> \n",
      "Status 201: JSONDecodeError in public_request (url=https://www.instagram.com/teeprnews/?__a=1&__d=dis) >>> \n",
      "Status 201: JSONDecodeError in public_request (url=https://www.instagram.com/teeprnews/?__a=1&__d=dis) >>> \n",
      "Status 201: JSONDecodeError in public_request (url=https://www.instagram.com/nyonyotv/?__a=1&__d=dis) >>> \n",
      "Status 201: JSONDecodeError in public_request (url=https://www.instagram.com/nyonyotv/?__a=1&__d=dis) >>> \n",
      "Status 201: JSONDecodeError in public_request (url=https://www.instagram.com/nyonyotv/?__a=1&__d=dis) >>> \n",
      "Status 201: JSONDecodeError in public_request (url=https://www.instagram.com/likecyndi/?__a=1&__d=dis) >>> \n",
      "Status 201: JSONDecodeError in public_request (url=https://www.instagram.com/likecyndi/?__a=1&__d=dis) >>> \n",
      "Status 201: JSONDecodeError in public_request (url=https://www.instagram.com/likecyndi/?__a=1&__d=dis) >>> \n",
      "Status 201: JSONDecodeError in public_request (url=https://www.instagram.com/illyqueen/?__a=1&__d=dis) >>> \n",
      "Status 201: JSONDecodeError in public_request (url=https://www.instagram.com/illyqueen/?__a=1&__d=dis) >>> \n",
      "Status 201: JSONDecodeError in public_request (url=https://www.instagram.com/illyqueen/?__a=1&__d=dis) >>> \n",
      "Status 201: JSONDecodeError in public_request (url=https://www.instagram.com/becca_ting/?__a=1&__d=dis) >>> \n",
      "Status 201: JSONDecodeError in public_request (url=https://www.instagram.com/becca_ting/?__a=1&__d=dis) >>> \n",
      "Status 201: JSONDecodeError in public_request (url=https://www.instagram.com/becca_ting/?__a=1&__d=dis) >>> \n",
      "Status 201: JSONDecodeError in public_request (url=https://www.instagram.com/nina_0111/?__a=1&__d=dis) >>> \n",
      "Status 201: JSONDecodeError in public_request (url=https://www.instagram.com/nina_0111/?__a=1&__d=dis) >>> \n",
      "Status 201: JSONDecodeError in public_request (url=https://www.instagram.com/nina_0111/?__a=1&__d=dis) >>> \n",
      "Status 201: JSONDecodeError in public_request (url=https://www.instagram.com/backpackers.com.tw/?__a=1&__d=dis) >>> \n",
      "Status 201: JSONDecodeError in public_request (url=https://www.instagram.com/backpackers.com.tw/?__a=1&__d=dis) >>> \n",
      "Status 201: JSONDecodeError in public_request (url=https://www.instagram.com/backpackers.com.tw/?__a=1&__d=dis) >>> \n",
      "Status 201: JSONDecodeError in public_request (url=https://www.instagram.com/stopkiddinstudio/?__a=1&__d=dis) >>> \n",
      "Status 201: JSONDecodeError in public_request (url=https://www.instagram.com/stopkiddinstudio/?__a=1&__d=dis) >>> \n",
      "Status 201: JSONDecodeError in public_request (url=https://www.instagram.com/stopkiddinstudio/?__a=1&__d=dis) >>> \n"
     ]
    }
   ],
   "source": [
    "\n",
    "# create a DataFrame to store the data\n",
    "df = pd.DataFrame(columns=[\"taken_at\", \"media_type\", \"image_url\", \"comment_count\", \"like_count\", \"play_count\", \"caption_text\", \"accessibility_caption\", \"thumbnail_url\", \"usertags\", \"sponsor_tags\", \"video_url\", \"view_count\", \"title\"])\n",
    "\n",
    "for index, row in influencer.iterrows():\n",
    "    # if index == 10:\n",
    "    #     break\n",
    "    \n",
    "    display_name = row[\"display_name\"]\n",
    "    username = row[\"username\"]\n",
    "    user_id = get_user_id(username)\n",
    "    if user_id is None:\n",
    "        continue\n",
    "    medias = get_user_medias(user_id)\n",
    "    if medias is None:\n",
    "        continue\n",
    "\n",
    "    print(f\"Getting data for {display_name} ({username})\")\n",
    "    \n",
    "    # Create DataFrame from media data\n",
    "    df_tmp = pd.DataFrame(\n",
    "        {\n",
    "            \"taken_at\": [media.taken_at for media in medias],\n",
    "            \"media_type\": [media.media_type for media in medias],\n",
    "            # \"image_versions2\": [str(media.image_versions2) for media in medias],\n",
    "            \"image_url\": [media.image_versions2[\"candidates\"][0][\"url\"] if \"image_versions2\" in media and \"candidates\" in media.image_versions2 else None for media in medias], \n",
    "            \"comment_count\": [getattr(media, \"comment_count\", None) for media in medias],\n",
    "            \"like_count\": [getattr(media, \"like_count\", None) for media in medias],\n",
    "            \"play_count\": [getattr(media, \"play_count\", None) for media in medias],\n",
    "            \"caption_text\": [getattr(media, \"caption_text\", None) for media in medias],\n",
    "            \"accessibility_caption\": [\n",
    "                getattr(media, \"accessibility_caption\", None) for media in medias\n",
    "            ],\n",
    "            \"thumbnail_url\": [getattr(media, \"thumbnail_url\", None) for media in medias],\n",
    "            \"usertags\": [\n",
    "                \", \".join(\n",
    "                    [usertag.user.username for usertag in getattr(media, \"usertags\", [])]\n",
    "                )\n",
    "                for media in medias\n",
    "            ],\n",
    "            \"sponsor_tags\": [\n",
    "                \", \".join(\n",
    "                    [\n",
    "                        sponsor_tag.username\n",
    "                        for sponsor_tag in getattr(media, \"sponsor_tags\", [])\n",
    "                    ]\n",
    "                )\n",
    "                for media in medias\n",
    "            ],\n",
    "            \"video_url\": [getattr(media, \"video_url\", None) for media in medias],\n",
    "            \"view_count\": [getattr(media, \"view_count\", None) for media in medias],\n",
    "            \"title\": [getattr(media, \"title\", None) for media in medias],\n",
    "        }\n",
    "    )\n",
    "    # get rid of the with no sponcer tags\n",
    "    df_tmp = df_tmp[df_tmp[\"sponsor_tags\"] != \"\"]\n",
    "    # concat the data\n",
    "    df = pd.concat([df, df_tmp], ignore_index=True)"
   ]
  },
  {
   "cell_type": "code",
   "execution_count": 11,
   "metadata": {},
   "outputs": [
    {
     "name": "stdout",
     "output_type": "stream",
     "text": [
      "['']\n"
     ]
    }
   ],
   "source": [
    "# get rid of data with no sponsor_tags\n",
    "# df = df[df[\"sponsor_tags\"].notnull()]\n",
    "\n",
    "# save the data\n",
    "df.to_csv(\"influencer_media.csv\", index=False)\n",
    "\n",
    "# get all sponsor_tags from df\n",
    "print(df[\"sponsor_tags\"].unique())"
   ]
  },
  {
   "cell_type": "code",
   "execution_count": null,
   "metadata": {},
   "outputs": [],
   "source": []
  }
 ],
 "metadata": {
  "kernelspec": {
   "display_name": "base",
   "language": "python",
   "name": "python3"
  },
  "language_info": {
   "codemirror_mode": {
    "name": "ipython",
    "version": 3
   },
   "file_extension": ".py",
   "mimetype": "text/x-python",
   "name": "python",
   "nbconvert_exporter": "python",
   "pygments_lexer": "ipython3",
   "version": "3.11.5"
  }
 },
 "nbformat": 4,
 "nbformat_minor": 2
}
